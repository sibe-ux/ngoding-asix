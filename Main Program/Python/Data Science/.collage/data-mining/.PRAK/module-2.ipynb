{
 "cells": [
  {
   "cell_type": "markdown",
   "metadata": {},
   "source": [
    "<!-- 1.  Jelaskan makna dataset. Jelaskan pula makna data training dan data testing! -->\n",
    "\n",
    "        A. Dataset\n",
    "           Dataset adalah kumpulan data yang terurut. Saat mengolah data, dataset dapat berupa sekumpulan tabel, skema, dan objek lainnya. Dataset pada dasarnya diatur untuk model tertentu yang membantu untuk memproses informasi yang dibutuhkan. Dataset juga merupakan kumpulan informasi yang disimpan secara permanen yang biasanya berisi data tingkat kasus, data yang dikumpulkan, atau data tingkat panduan statistik.\n",
    "           Dataset menggambarkan nilai untuk setiap variabel untuk jumlah yang tidak diketahui seperti tinggi, berat, suhu, volume, dll. dari suatu objek atau nilai angka acak. Nilai-nilai dalam himpunan ini dikenal sebagai datum. Dataset terdiri dari data dari satu atau lebih elemen yang sesuai dengan setiap baris.\n",
    "\n",
    "        B. Data Training\n",
    "           Jenis data ini membangun algoritma machine learning. Ilmuwan data/data scientist memasukkan algoritma input data, yang sesuai dengan keluaran yang diharapkan. Model mengevaluasi data berulang kali untuk mempelajari lebih lanjut tentang perilaku data dan kemudian menyesuaikan untuk memenuhi tujuan yang dimaksudkan.\n",
    "\n",
    "        C. Data Testing\n",
    "           Setelah model dibangun, data testing akan sekali lagi memvalidasi bahwa model tersebut dapat membuat prediksi yang akurat. Jika data training dan validasi menyertakan label untuk memantau metrik kinerja model, data testing sebaiknya tidak diberi label. Data testing memberikan pemeriksaan akhir real-world dari kumpulan data yang tidak terlihat untuk mengonfirmasi bahwa algoritma ML telah dilatih secara efektif.\n",
    "\n",
    "<!-- 2. Jelaskan proses penyusunan dataset -->\n",
    "\n",
    "         \n"
   ]
  }
 ],
 "metadata": {
  "interpreter": {
   "hash": "70e32dc76d27417f5e9ec5e494b9f807900c34e0fc91e8110dad087c5aafef2c"
  },
  "kernelspec": {
   "display_name": "Python 3.9.7 ('base')",
   "language": "python",
   "name": "python3"
  },
  "language_info": {
   "name": "python",
   "version": "3.9.7"
  },
  "orig_nbformat": 4
 },
 "nbformat": 4,
 "nbformat_minor": 2
}
