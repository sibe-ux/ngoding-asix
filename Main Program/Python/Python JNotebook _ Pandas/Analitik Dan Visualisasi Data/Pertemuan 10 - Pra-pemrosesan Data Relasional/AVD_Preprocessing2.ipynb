{
 "cells": [
  {
   "cell_type": "markdown",
   "metadata": {
    "id": "ArjrgG_mXccI"
   },
   "source": [
    "# Preprocessing Data"
   ]
  },
  {
   "cell_type": "markdown",
   "metadata": {
    "id": "fiJZsa8dXfNo"
   },
   "source": [
    "## Integrasi Data\n",
    "\n",
    "[Sumber data dari Kaggle dengan judul Olympic Tokyo](https://www.kaggle.com/arjunprasadsarkhel/2021-olympics-in-tokyo/version/7)"
   ]
  },
  {
   "cell_type": "code",
   "execution_count": 1,
   "metadata": {
    "id": "uwYJMdU3XziB"
   },
   "outputs": [],
   "source": [
    "import pandas as pd"
   ]
  },
  {
   "cell_type": "code",
   "execution_count": 2,
   "metadata": {
    "id": "AwNhr4Z2XbWx"
   },
   "outputs": [
    {
     "ename": "FileNotFoundError",
     "evalue": "[Errno 2] No such file or directory: '/content/Athletes.xlsx'",
     "output_type": "error",
     "traceback": [
      "\u001b[1;31m---------------------------------------------------------------------------\u001b[0m",
      "\u001b[1;31mFileNotFoundError\u001b[0m                         Traceback (most recent call last)",
      "\u001b[1;32m<ipython-input-2-cd9444ada884>\u001b[0m in \u001b[0;36m<module>\u001b[1;34m\u001b[0m\n\u001b[0;32m      1\u001b[0m \u001b[1;31m# Load Data Athlete\u001b[0m\u001b[1;33m\u001b[0m\u001b[1;33m\u001b[0m\u001b[1;33m\u001b[0m\u001b[0m\n\u001b[1;32m----> 2\u001b[1;33m \u001b[0mathlete\u001b[0m \u001b[1;33m=\u001b[0m \u001b[0mpd\u001b[0m\u001b[1;33m.\u001b[0m\u001b[0mread_excel\u001b[0m\u001b[1;33m(\u001b[0m\u001b[1;34m'/content/Athletes.xlsx'\u001b[0m\u001b[1;33m)\u001b[0m\u001b[1;33m\u001b[0m\u001b[1;33m\u001b[0m\u001b[0m\n\u001b[0m\u001b[0;32m      3\u001b[0m \u001b[0mathlete\u001b[0m\u001b[1;33m\u001b[0m\u001b[1;33m\u001b[0m\u001b[0m\n",
      "\u001b[1;32m~\\anaconda3\\lib\\site-packages\\pandas\\util\\_decorators.py\u001b[0m in \u001b[0;36mwrapper\u001b[1;34m(*args, **kwargs)\u001b[0m\n\u001b[0;32m    297\u001b[0m                 )\n\u001b[0;32m    298\u001b[0m                 \u001b[0mwarnings\u001b[0m\u001b[1;33m.\u001b[0m\u001b[0mwarn\u001b[0m\u001b[1;33m(\u001b[0m\u001b[0mmsg\u001b[0m\u001b[1;33m,\u001b[0m \u001b[0mFutureWarning\u001b[0m\u001b[1;33m,\u001b[0m \u001b[0mstacklevel\u001b[0m\u001b[1;33m=\u001b[0m\u001b[0mstacklevel\u001b[0m\u001b[1;33m)\u001b[0m\u001b[1;33m\u001b[0m\u001b[1;33m\u001b[0m\u001b[0m\n\u001b[1;32m--> 299\u001b[1;33m             \u001b[1;32mreturn\u001b[0m \u001b[0mfunc\u001b[0m\u001b[1;33m(\u001b[0m\u001b[1;33m*\u001b[0m\u001b[0margs\u001b[0m\u001b[1;33m,\u001b[0m \u001b[1;33m**\u001b[0m\u001b[0mkwargs\u001b[0m\u001b[1;33m)\u001b[0m\u001b[1;33m\u001b[0m\u001b[1;33m\u001b[0m\u001b[0m\n\u001b[0m\u001b[0;32m    300\u001b[0m \u001b[1;33m\u001b[0m\u001b[0m\n\u001b[0;32m    301\u001b[0m         \u001b[1;32mreturn\u001b[0m \u001b[0mwrapper\u001b[0m\u001b[1;33m\u001b[0m\u001b[1;33m\u001b[0m\u001b[0m\n",
      "\u001b[1;32m~\\anaconda3\\lib\\site-packages\\pandas\\io\\excel\\_base.py\u001b[0m in \u001b[0;36mread_excel\u001b[1;34m(io, sheet_name, header, names, index_col, usecols, squeeze, dtype, engine, converters, true_values, false_values, skiprows, nrows, na_values, keep_default_na, na_filter, verbose, parse_dates, date_parser, thousands, comment, skipfooter, convert_float, mangle_dupe_cols, storage_options)\u001b[0m\n\u001b[0;32m    334\u001b[0m     \u001b[1;32mif\u001b[0m \u001b[1;32mnot\u001b[0m \u001b[0misinstance\u001b[0m\u001b[1;33m(\u001b[0m\u001b[0mio\u001b[0m\u001b[1;33m,\u001b[0m \u001b[0mExcelFile\u001b[0m\u001b[1;33m)\u001b[0m\u001b[1;33m:\u001b[0m\u001b[1;33m\u001b[0m\u001b[1;33m\u001b[0m\u001b[0m\n\u001b[0;32m    335\u001b[0m         \u001b[0mshould_close\u001b[0m \u001b[1;33m=\u001b[0m \u001b[1;32mTrue\u001b[0m\u001b[1;33m\u001b[0m\u001b[1;33m\u001b[0m\u001b[0m\n\u001b[1;32m--> 336\u001b[1;33m         \u001b[0mio\u001b[0m \u001b[1;33m=\u001b[0m \u001b[0mExcelFile\u001b[0m\u001b[1;33m(\u001b[0m\u001b[0mio\u001b[0m\u001b[1;33m,\u001b[0m \u001b[0mstorage_options\u001b[0m\u001b[1;33m=\u001b[0m\u001b[0mstorage_options\u001b[0m\u001b[1;33m,\u001b[0m \u001b[0mengine\u001b[0m\u001b[1;33m=\u001b[0m\u001b[0mengine\u001b[0m\u001b[1;33m)\u001b[0m\u001b[1;33m\u001b[0m\u001b[1;33m\u001b[0m\u001b[0m\n\u001b[0m\u001b[0;32m    337\u001b[0m     \u001b[1;32melif\u001b[0m \u001b[0mengine\u001b[0m \u001b[1;32mand\u001b[0m \u001b[0mengine\u001b[0m \u001b[1;33m!=\u001b[0m \u001b[0mio\u001b[0m\u001b[1;33m.\u001b[0m\u001b[0mengine\u001b[0m\u001b[1;33m:\u001b[0m\u001b[1;33m\u001b[0m\u001b[1;33m\u001b[0m\u001b[0m\n\u001b[0;32m    338\u001b[0m         raise ValueError(\n",
      "\u001b[1;32m~\\anaconda3\\lib\\site-packages\\pandas\\io\\excel\\_base.py\u001b[0m in \u001b[0;36m__init__\u001b[1;34m(self, path_or_buffer, engine, storage_options)\u001b[0m\n\u001b[0;32m   1069\u001b[0m                 \u001b[0mext\u001b[0m \u001b[1;33m=\u001b[0m \u001b[1;34m\"xls\"\u001b[0m\u001b[1;33m\u001b[0m\u001b[1;33m\u001b[0m\u001b[0m\n\u001b[0;32m   1070\u001b[0m             \u001b[1;32melse\u001b[0m\u001b[1;33m:\u001b[0m\u001b[1;33m\u001b[0m\u001b[1;33m\u001b[0m\u001b[0m\n\u001b[1;32m-> 1071\u001b[1;33m                 ext = inspect_excel_format(\n\u001b[0m\u001b[0;32m   1072\u001b[0m                     \u001b[0mcontent\u001b[0m\u001b[1;33m=\u001b[0m\u001b[0mpath_or_buffer\u001b[0m\u001b[1;33m,\u001b[0m \u001b[0mstorage_options\u001b[0m\u001b[1;33m=\u001b[0m\u001b[0mstorage_options\u001b[0m\u001b[1;33m\u001b[0m\u001b[1;33m\u001b[0m\u001b[0m\n\u001b[0;32m   1073\u001b[0m                 )\n",
      "\u001b[1;32m~\\anaconda3\\lib\\site-packages\\pandas\\io\\excel\\_base.py\u001b[0m in \u001b[0;36minspect_excel_format\u001b[1;34m(path, content, storage_options)\u001b[0m\n\u001b[0;32m    947\u001b[0m     \u001b[1;32massert\u001b[0m \u001b[0mcontent_or_path\u001b[0m \u001b[1;32mis\u001b[0m \u001b[1;32mnot\u001b[0m \u001b[1;32mNone\u001b[0m\u001b[1;33m\u001b[0m\u001b[1;33m\u001b[0m\u001b[0m\n\u001b[0;32m    948\u001b[0m \u001b[1;33m\u001b[0m\u001b[0m\n\u001b[1;32m--> 949\u001b[1;33m     with get_handle(\n\u001b[0m\u001b[0;32m    950\u001b[0m         \u001b[0mcontent_or_path\u001b[0m\u001b[1;33m,\u001b[0m \u001b[1;34m\"rb\"\u001b[0m\u001b[1;33m,\u001b[0m \u001b[0mstorage_options\u001b[0m\u001b[1;33m=\u001b[0m\u001b[0mstorage_options\u001b[0m\u001b[1;33m,\u001b[0m \u001b[0mis_text\u001b[0m\u001b[1;33m=\u001b[0m\u001b[1;32mFalse\u001b[0m\u001b[1;33m\u001b[0m\u001b[1;33m\u001b[0m\u001b[0m\n\u001b[0;32m    951\u001b[0m     ) as handle:\n",
      "\u001b[1;32m~\\anaconda3\\lib\\site-packages\\pandas\\io\\common.py\u001b[0m in \u001b[0;36mget_handle\u001b[1;34m(path_or_buf, mode, encoding, compression, memory_map, is_text, errors, storage_options)\u001b[0m\n\u001b[0;32m    649\u001b[0m         \u001b[1;32melse\u001b[0m\u001b[1;33m:\u001b[0m\u001b[1;33m\u001b[0m\u001b[1;33m\u001b[0m\u001b[0m\n\u001b[0;32m    650\u001b[0m             \u001b[1;31m# Binary mode\u001b[0m\u001b[1;33m\u001b[0m\u001b[1;33m\u001b[0m\u001b[1;33m\u001b[0m\u001b[0m\n\u001b[1;32m--> 651\u001b[1;33m             \u001b[0mhandle\u001b[0m \u001b[1;33m=\u001b[0m \u001b[0mopen\u001b[0m\u001b[1;33m(\u001b[0m\u001b[0mhandle\u001b[0m\u001b[1;33m,\u001b[0m \u001b[0mioargs\u001b[0m\u001b[1;33m.\u001b[0m\u001b[0mmode\u001b[0m\u001b[1;33m)\u001b[0m\u001b[1;33m\u001b[0m\u001b[1;33m\u001b[0m\u001b[0m\n\u001b[0m\u001b[0;32m    652\u001b[0m         \u001b[0mhandles\u001b[0m\u001b[1;33m.\u001b[0m\u001b[0mappend\u001b[0m\u001b[1;33m(\u001b[0m\u001b[0mhandle\u001b[0m\u001b[1;33m)\u001b[0m\u001b[1;33m\u001b[0m\u001b[1;33m\u001b[0m\u001b[0m\n\u001b[0;32m    653\u001b[0m \u001b[1;33m\u001b[0m\u001b[0m\n",
      "\u001b[1;31mFileNotFoundError\u001b[0m: [Errno 2] No such file or directory: '/content/Athletes.xlsx'"
     ]
    }
   ],
   "source": [
    "# Load Data Athlete\n",
    "athlete = pd.read_excel('/content/Athletes.xlsx')\n",
    "athlete"
   ]
  },
  {
   "cell_type": "markdown",
   "metadata": {
    "id": "23GV2rJIYXqb"
   },
   "source": [
    "**Agregasi data untuk mendapatkan berapa jumlah atlit yang dikirim oleh masing-masing negara**"
   ]
  },
  {
   "cell_type": "code",
   "execution_count": null,
   "metadata": {
    "id": "Fai9qFIKX7Rd"
   },
   "outputs": [],
   "source": [
    "athlete_country = athlete.groupby(['NOC'])['NOC'].count().reset_index(name='jumlah')\n",
    "athlete_country"
   ]
  },
  {
   "cell_type": "markdown",
   "metadata": {
    "id": "m_bBzvJ5ZbWe"
   },
   "source": [
    "**Load Data Medals untuk mengetahui berapa medali yang didapatkan suatu negara**"
   ]
  },
  {
   "cell_type": "code",
   "execution_count": null,
   "metadata": {
    "id": "4sR9K9eIYvVP"
   },
   "outputs": [],
   "source": [
    "medals = pd.read_excel('/content/Medals.xlsx')\n",
    "medals"
   ]
  },
  {
   "cell_type": "markdown",
   "metadata": {
    "id": "Y0bF2pcJbsC6"
   },
   "source": [
    "Data Athletes dan medals akan digabungkan menggunakan kolom NOC pada athletes dan Team/NOC pada medals.\n",
    "Untuk mempermudah proses join kita ubah nama kolom pada medals menjadi NOC.\n",
    "\n",
    "**medals: Team/NOC->NOC**"
   ]
  },
  {
   "cell_type": "code",
   "execution_count": null,
   "metadata": {
    "id": "LmbCfE9ecBM1"
   },
   "outputs": [],
   "source": [
    "medals.rename(columns={'Team/NOC':'NOC'}, inplace=True)\n",
    "medals"
   ]
  },
  {
   "cell_type": "markdown",
   "metadata": {
    "id": "MUY3756JdavC"
   },
   "source": [
    "Cek apakah terdapat data yang redundan pada medals dengan menggunakan aggregasi."
   ]
  },
  {
   "cell_type": "code",
   "execution_count": null,
   "metadata": {
    "id": "uMqPoBX1dps3"
   },
   "outputs": [],
   "source": [
    "medals_check = medals.groupby(['NOC'])['NOC'].count().reset_index(name='jumlah')"
   ]
  },
  {
   "cell_type": "markdown",
   "metadata": {
    "id": "LrMqV7Niecis"
   },
   "source": [
    "Buat filter untuk mengetahui apakah ada NOC yang dituliskan 2 kali. Jika nilai pada kolom jumlah adalah 2 atau lebih maka terdapat data NOC lebih dari 1 pada suatu negara."
   ]
  },
  {
   "cell_type": "code",
   "execution_count": null,
   "metadata": {
    "id": "zLlVZJFIeb_D"
   },
   "outputs": [],
   "source": [
    "filter = medals_check['jumlah']==1\n",
    "filter"
   ]
  },
  {
   "cell_type": "markdown",
   "metadata": {
    "id": "slM0bwZqetHq"
   },
   "source": [
    "Implementasikan hasil filter pada dataset medals dengan menggunakan where."
   ]
  },
  {
   "cell_type": "code",
   "execution_count": null,
   "metadata": {
    "id": "pB8wIBFbezkJ"
   },
   "outputs": [],
   "source": [
    "medals_check.where(filter).shape[0]"
   ]
  },
  {
   "cell_type": "markdown",
   "metadata": {
    "id": "LxEmGGxcfVZ2"
   },
   "source": [
    "Membandingkan jumlah data yang telah difilter dengan data sebelum difilter. Tidak terdapat data NOC yang ditulis 2 kali atau lebih berarti tidak terdapat data yang redundan."
   ]
  },
  {
   "cell_type": "code",
   "execution_count": null,
   "metadata": {
    "id": "pOO1BRUmfIZD"
   },
   "outputs": [],
   "source": [
    "medals.shape[0]"
   ]
  },
  {
   "cell_type": "markdown",
   "metadata": {
    "id": "THwU2LZ7fd53"
   },
   "source": [
    "Kemudian, kita gabungkan dataset athletes dan medals menggunakan kolom NOC dengan cara inner. Inner berarti hanya akan menggabungkan kedua dataset dengan nilai NOC yang sama."
   ]
  },
  {
   "cell_type": "code",
   "execution_count": null,
   "metadata": {
    "id": "BeRXdTXJZnZM"
   },
   "outputs": [],
   "source": [
    "country_medals = athlete_country.merge(medals, on='NOC', how='inner')\n",
    "country_medals"
   ]
  },
  {
   "cell_type": "code",
   "execution_count": null,
   "metadata": {
    "id": "fXZxvDeOaT43"
   },
   "outputs": [],
   "source": [
    "import matplotlib.pyplot as plt"
   ]
  },
  {
   "cell_type": "markdown",
   "metadata": {
    "id": "sZGPcXg3gRcI"
   },
   "source": [
    "Visualisasikan data dengan membandingkan antara jumlah athlete yang dikirim dengan jumlah medali yang didapatkan pada masing-masing negara."
   ]
  },
  {
   "cell_type": "code",
   "execution_count": null,
   "metadata": {
    "id": "FzS2areAgBTR"
   },
   "outputs": [],
   "source": [
    "plt.bar(country_medals['NOC'],country_medals['jumlah'])\n",
    "plt.bar(country_medals['NOC'],country_medals['Rank by Total'])"
   ]
  },
  {
   "cell_type": "markdown",
   "metadata": {
    "id": "5T_Uw8FHgfcT"
   },
   "source": [
    "Dikarenakan terlalu banyak negara sehingga diagram tidak terlihat jelas maka kita dapat menampilkan data dengan kriteria tertentu."
   ]
  },
  {
   "cell_type": "code",
   "execution_count": null,
   "metadata": {
    "id": "zyVmiLCngJX3"
   },
   "outputs": [],
   "source": [
    "country_medals.describe()"
   ]
  },
  {
   "cell_type": "code",
   "execution_count": null,
   "metadata": {
    "id": "TNW_5R7qg9Lj"
   },
   "outputs": [],
   "source": [
    "visualize_data = country_medals[country_medals['jumlah']>150].sort_values('jumlah')\n",
    "plt.bar(visualize_data['NOC'],visualize_data['jumlah'])\n",
    "plt.bar(visualize_data['NOC'],visualize_data['Rank by Total'])"
   ]
  },
  {
   "cell_type": "markdown",
   "metadata": {
    "id": "8Mp5RwhLi9P2"
   },
   "source": [
    "------------------------------------------\n",
    "## Menggunakan dataset Iris"
   ]
  },
  {
   "cell_type": "code",
   "execution_count": null,
   "metadata": {
    "id": "VBu2KQ-shNoS"
   },
   "outputs": [],
   "source": [
    "iris = pd.read_csv('https://archive.ics.uci.edu/ml/machine-learning-databases/iris/iris.data', delimiter=',',names=['sepal_length','sepal_width','petal_length','petal_width','class'])\n",
    "iris"
   ]
  },
  {
   "cell_type": "markdown",
   "metadata": {
    "id": "b_ctA-yYjkL0"
   },
   "source": [
    "### Normalisasi pada dataset Iris menggunakan normalisasi min-max"
   ]
  },
  {
   "cell_type": "code",
   "execution_count": null,
   "metadata": {
    "id": "aqLyZCHqjsjD"
   },
   "outputs": [],
   "source": [
    "from sklearn.preprocessing import MinMaxScaler"
   ]
  },
  {
   "cell_type": "markdown",
   "metadata": {
    "id": "J9ZmMtT9kwne"
   },
   "source": [
    "Membagi fitur dan kelas"
   ]
  },
  {
   "cell_type": "code",
   "execution_count": null,
   "metadata": {
    "id": "ansmLhFGkwRg"
   },
   "outputs": [],
   "source": [
    "x = iris.iloc[:,:-1]\n",
    "x"
   ]
  },
  {
   "cell_type": "code",
   "execution_count": null,
   "metadata": {
    "id": "NnyWt-oKk5cK"
   },
   "outputs": [],
   "source": [
    "y = iris.iloc[:,-1]\n",
    "y"
   ]
  },
  {
   "cell_type": "code",
   "execution_count": null,
   "metadata": {
    "id": "Rf7MqEs4kT_-"
   },
   "outputs": [],
   "source": [
    "scaller = MinMaxScaler()\n",
    "scaller.fit(x)\n",
    "x = pd.DataFrame(scaller.transform(x), columns=['sepal_length',\t'sepal_width',\t'petal_length',\t'petal_width'])\n",
    "x"
   ]
  },
  {
   "cell_type": "markdown",
   "metadata": {
    "id": "ZzmjxGWzraPG"
   },
   "source": [
    "## Diskritisasi "
   ]
  },
  {
   "cell_type": "code",
   "execution_count": null,
   "metadata": {
    "id": "_EYHzAzKkhhy"
   },
   "outputs": [],
   "source": [
    "plt.hist(iris['sepal_length'])"
   ]
  },
  {
   "cell_type": "code",
   "execution_count": null,
   "metadata": {
    "id": "rS_bGoOfpIHt"
   },
   "outputs": [],
   "source": [
    "plt.hist(iris['sepal_width'])"
   ]
  },
  {
   "cell_type": "code",
   "execution_count": null,
   "metadata": {
    "id": "BQuoxqY9qM7m"
   },
   "outputs": [],
   "source": [
    " from sklearn.preprocessing import KBinsDiscretizer"
   ]
  },
  {
   "cell_type": "code",
   "execution_count": null,
   "metadata": {
    "id": "xFec9OCKqSqz"
   },
   "outputs": [],
   "source": [
    "discretizer = KBinsDiscretizer(encode='ordinal', strategy='uniform', n_bins=3)\n",
    "discretizer.fit(x)\n",
    "x = pd.DataFrame(discretizer.transform(x), columns=['sepal_length',\t'sepal_width',\t'petal_length',\t'petal_width'])\n",
    "x"
   ]
  },
  {
   "cell_type": "code",
   "execution_count": null,
   "metadata": {
    "id": "86NHJumQq3Yy"
   },
   "outputs": [],
   "source": []
  }
 ],
 "metadata": {
  "colab": {
   "name": "AVD:Preprocessing2.ipynb",
   "private_outputs": true,
   "provenance": []
  },
  "kernelspec": {
   "display_name": "Python 3",
   "language": "python",
   "name": "python3"
  },
  "language_info": {
   "codemirror_mode": {
    "name": "ipython",
    "version": 3
   },
   "file_extension": ".py",
   "mimetype": "text/x-python",
   "name": "python",
   "nbconvert_exporter": "python",
   "pygments_lexer": "ipython3",
   "version": "3.8.8"
  }
 },
 "nbformat": 4,
 "nbformat_minor": 1
}
