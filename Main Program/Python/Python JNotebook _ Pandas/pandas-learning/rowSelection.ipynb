{
 "cells": [
  {
   "cell_type": "code",
   "execution_count": null,
   "id": "1e83b6f2",
   "metadata": {},
   "outputs": [
    {
     "ename": "",
     "evalue": "",
     "output_type": "error",
     "traceback": [
      "\u001b[1;31mThe kernel failed to start due to the missing module 'tempfile'. Consider installing this module. \n",
      "View Jupyter <a href='command:jupyter.viewOutput'>log</a> for further details.\n",
      "<a href='https://aka.ms/kernelFailuresMissingModule'>Learn more</a>"
     ]
    }
   ],
   "source": [
    "import pandas as pd\n",
    "import numpy as np\n",
    "\n",
    "n_rows = 10\n",
    "n_cols = 5\n",
    "cols = tuple('ABCDE')\n",
    "\n",
    "df = pd.DataFrame(np.random.randint(1,5,size=(n_rows,n_cols)),columns=cols)\n",
    "df"
   ]
  },
  {
   "cell_type": "code",
   "execution_count": null,
   "id": "2f5f724c",
   "metadata": {},
   "outputs": [
    {
     "ename": "",
     "evalue": "",
     "output_type": "error",
     "traceback": [
      "\u001b[1;31mThe kernel failed to start due to the missing module 'tempfile'. Consider installing this module. \n",
      "View Jupyter <a href='command:jupyter.viewOutput'>log</a> for further details.\n",
      "<a href='https://aka.ms/kernelFailuresMissingModule'>Learn more</a>"
     ]
    }
   ],
   "source": [
    "# selection menggunakan operator logika |\n",
    "df[(df['A']==1) | (df['A']==3)]"
   ]
  },
  {
   "cell_type": "code",
   "execution_count": null,
   "id": "53ff2d04",
   "metadata": {},
   "outputs": [],
   "source": [
    "# dapat disederhanakan menggunakan isin()\n",
    "df[df['A'].isin([1,3])]"
   ]
  },
  {
   "cell_type": "code",
   "execution_count": null,
   "id": "d06bab87",
   "metadata": {},
   "outputs": [],
   "source": [
    "# untuk not dapat menggunakan operator negasi ~ (tilde)\n",
    "df[~df['A'].isin([1,3])]"
   ]
  }
 ],
 "metadata": {
  "interpreter": {
   "hash": "59c8ec77eaefc4e0c355f3196ef77f5032b210fffeb50239fe97f28a0cf640c7"
  },
  "kernelspec": {
   "display_name": "Python 3.8.8 64-bit ('base': conda)",
   "name": "python3"
  },
  "language_info": {
   "codemirror_mode": {
    "name": "ipython",
    "version": 3
   },
   "file_extension": ".py",
   "mimetype": "text/x-python",
   "name": "python",
   "nbconvert_exporter": "python",
   "pygments_lexer": "ipython3",
   "version": "3.10.1"
  }
 },
 "nbformat": 4,
 "nbformat_minor": 5
}
