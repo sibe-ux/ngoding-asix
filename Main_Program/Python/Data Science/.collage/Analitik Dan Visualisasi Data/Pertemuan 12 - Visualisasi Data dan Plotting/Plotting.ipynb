{
 "cells": [
  {
   "cell_type": "markdown",
   "id": "3646c2cf",
   "metadata": {},
   "source": [
    "# Pertemuan 12 : Visualisasi Data dan Plotting\n",
    "- Reference: **Phuong Vo. T.H., Martin Czygan, Ashish Kumar, Kirthi Raman. Python Data Analytics and Visualization. A Course in three modeules-Packt 2017)**"
   ]
  },
  {
   "cell_type": "markdown",
   "id": "34dfe9de",
   "metadata": {},
   "source": [
    "## 1. Bar Chart\n",
    "Bar graphs (diagram batang) sangat efektif bila Anda memiliki data numerik yang terbagi dengan baik ke dalam kategori yang berbeda, sehingga Anda dapat dengan cepat melihat tren dalam data Anda. Grafik batang berguna saat membandingkan data lintas kategori. Beberapa contoh penggunaan grafik batang sebagai berikut: \n",
    "- Perubahan populasi dunia dua dekade terakhir\n",
    "- Persentase pengeluaran oleh masing-masing departemen.\n"
   ]
  },
  {
   "cell_type": "code",
   "execution_count": 1,
   "id": "589d900f",
   "metadata": {},
   "outputs": [],
   "source": [
    "import numpy as np\n",
    "import matplotlib.pyplot as plt"
   ]
  },
  {
   "cell_type": "code",
   "execution_count": 2,
   "id": "ccc03a23",
   "metadata": {},
   "outputs": [
    {
     "data": {
      "image/png": "[encoded data removed]",
      "text/plain": [
       "<Figure size 432x288 with 1 Axes>"
      ]
     },
     "metadata": {
      "needs_background": "light"
     },
     "output_type": "display_data"
    }
   ],
   "source": [
    "N = 7\n",
    "winnersplot = (142.6, 125.3, 62.0, 81.0, 145.6, 319.4, 178.1)\n",
    "ind = np.arange(N) # the x locations for the groups\n",
    "\n",
    "width = 0.35 # the width of the bars\n",
    "fig, ax = plt.subplots()\n",
    "winners = ax.bar(ind, winnersplot, width, color='#ffad00')\n",
    "nomineesplot = (109.4, 94.8, 60.7, 44.6, 116.9, 262.5, 102.0)\n",
    "nominees = ax.bar(ind+width, nomineesplot, width,\n",
    "color='#9b3c38')"
   ]
  },
  {
   "cell_type": "code",
   "execution_count": 3,
   "id": "d9b4e995",
   "metadata": {},
   "outputs": [
    {
     "data": {
      "image/png": "[encoded data removed]",
      "text/plain": [
       "<Figure size 432x288 with 1 Axes>"
      ]
     },
     "metadata": {
      "needs_background": "light"
     },
     "output_type": "display_data"
    }
   ],
   "source": [
    "N = 7\n",
    "winnersplot = (142.6, 125.3, 62.0, 81.0, 145.6, 319.4, 178.1)\n",
    "ind = np.arange(N) # the x locations for the groups\n",
    "\n",
    "width = 0.35 # the width of the bars\n",
    "fig, ax = plt.subplots()\n",
    "winners = ax.bar(ind, winnersplot, width, color='#ffad00')\n",
    "nomineesplot = (109.4, 94.8, 60.7, 44.6, 116.9, 262.5, 102.0)\n",
    "nominees = ax.bar(ind+width, nomineesplot, width, color='#9b3c38')\n",
    "\n",
    "# add some text for labels, title and axes ticks\n",
    "ax.set_xticks(ind+width)\n",
    "ax.set_xticklabels( ('Best Picture', 'Director', 'Best Actor','Best Actress',\n",
    "                     'Editing', 'Visual Effects', 'Cinematography'))\n",
    "ax.legend( (winners[0], nominees[0]), ('Academy Award Winners',\n",
    "                                       'Academy Award Nominees') )\n",
    "\n",
    "def autolabel(rects):\n",
    "    # attach some text labels\n",
    "    for rect in rects:\n",
    "        height = rect.get_height()\n",
    "        hcap = \"$\"+str(height)+\"M\"\n",
    "        ax.text(rect.get_x()+rect.get_width()/2., height, hcap,ha='center', va='bottom', rotation=\"vertical\")\n",
    "\n",
    "autolabel(winners)\n",
    "autolabel(nominees)\n",
    "\n",
    "plt.rcParams[\"figure.figsize\"] = (20,5)\n",
    "plt.show()"
   ]
  },
  {
   "attachments": {},
   "cell_type": "markdown",
   "id": "ede90d6b",
   "metadata": {},
   "source": [
    "## 2. Pie Chart\n",
    "Pie charts digunakan untuk menampilkan proporsi pada satu ruang atau di seluruh pemetaan data. Beberapa contoh penting termasuk yang berikut:\n",
    "- Kategori respons dari hasil survei\n",
    "- Lima besar pangsa pasar perusahaan dalam teknologi tertentu (dalam hal ini, seseorang dapat dengan cepat mengetahui perusahaan mana yang memiliki pangsa pasar utama)\n",
    "- Penerimaan mahasiswa di beberapa bidang studi terpopuler"
   ]
  },
  {
   "cell_type": "code",
   "execution_count": null,
   "id": "5393f68c",
   "metadata": {},
   "outputs": [],
   "source": [
    "labels = 'Computer Science', 'Foreign Languages', 'Analytical Chemistry','Education', 'Humanities', 'Physics', 'Biology', 'Math and Statistics', 'Engineering'\n",
    "sizes = [21, 4, 7, 7, 8, 9, 10, 15, 19]\n",
    "colors = ['yellowgreen', 'gold', 'lightskyblue','lightcoral','red', 'purple', '#f280de', 'orange', 'green']\n",
    "explode = (0,0,0,0,0,0,0,0,0.1)\n",
    "\n",
    "plt.pie(sizes, explode=explode, labels=labels, autopct='%1.1f%%', colors=colors)\n",
    "plt.axis('equal')\n",
    "plt.show()\n",
    "plt.rcParams[\"figure.figsize\"] = (10,10)"
   ]
  },
  {
   "attachments": {},
   "cell_type": "markdown",
   "id": "9ecc4506",
   "metadata": {},
   "source": [
    "## 3. Box Plot\n",
    "Box plot juga dikenal sebagai box-and-whisker plots; merupakan cara standar untuk menampilkan distribusi data berdasarkan: nilai minimum, kuartil 1 (Q1), median, kuartil ketiga (Q3), dan nilai maksimum. Box plot digunakan untuk menunjukkan distribusi sekumpulan data. Beberapa contoh penggunaannya adalah sebagai berikut: \n",
    "- Mengidentifikasi outlier dalam data\n",
    "- Menentukan kecondongan data terhadap nilai ujungnya (min atau max)"
   ]
  },
  {
   "cell_type": "code",
   "execution_count": null,
   "id": "c6cd89b9",
   "metadata": {},
   "outputs": [],
   "source": [
    "# Fixing random state for reproducibility\n",
    "np.random.seed(19680801)\n",
    "\n",
    "# fake up some data\n",
    "spread = np.random.rand(50) * 100\n",
    "center = np.ones(25) * 50\n",
    "flier_high = np.random.rand(10) * 100 + 100\n",
    "flier_low = np.random.rand(10) * -100\n",
    "data = np.concatenate((spread, center, flier_high, flier_low))\n",
    "\n",
    "fig1, ax1 = plt.subplots()\n",
    "ax1.set_title('Basic Plot')\n",
    "ax1.boxplot(data)"
   ]
  },
  {
   "attachments": {},
   "cell_type": "markdown",
   "id": "c38f6476",
   "metadata": {},
   "source": [
    "## 4. Scatter Plot\n",
    "Scatter plot merupakan jenis metode visualisasi untuk menampilkan dua variabel. Pola titik-titik perpotongannya secara grafis dapat menunjukkan pola hubungan antar kedua variabel tersebut. Scatter plot digunakan untuk menyelidiki hubungan antara dua variabel yang berbeda. Contohnya sebagai berikut :\n",
    "- Kemungkinan menderita kanker kulit pada usia yang berbeda pada pria versus wanita\n",
    "- Korelasi antara hasil tes IQ dengan IPK"
   ]
  },
  {
   "cell_type": "code",
   "execution_count": null,
   "id": "542f6e21",
   "metadata": {},
   "outputs": [],
   "source": [
    "import pandas as pd\n",
    "import seaborn as sns\n",
    "\n",
    "students = pd.read_csv(\"https://gist.githubusercontent.com/zhonglism/0bd518ae8c8ee849d521db159778a54b/raw/ac6aa867f5071802b54dc4a713d287faa0bc5abc/ucdavis.csv\")\n",
    "g = sns.FacetGrid(students, palette=\"Set1\", size=7)\n",
    "g.map(plt.scatter, \"momheight\", \"height\", s=140, linewidth=.7,\n",
    "edgecolor=\"#ffad40\", color=\"#ff8000\")\n",
    "g.set_axis_labels(\"Mothers Height\", \"Students Height\")"
   ]
  },
  {
   "attachments": {},
   "cell_type": "markdown",
   "id": "777a68b7",
   "metadata": {},
   "source": [
    "## 5. Buble Chart\n",
    "Buble chart digunakan untuk membandingkan hubungan antara data dalam tiga dimensi data numerik: data sumbu x, data sumbu y, dan data yang diwakili oleh ukuran gelembung. Buble chart seperti halnya scatter plot XY, kecuali bahwa setiap titik pada plot yang tersebar memiliki nilai data tambahan yang terkait dengannya yang diwakili oleh ukuran lingkaran atau \"gelembung\" yang berpusat pada titik XY.\n",
    "\n",
    "Contoh buble chart adalah sebagai berikut:\n",
    "Biaya produksi film dan laba kotor yang dihasilkan, dan signifikansinya diukur dengan heat scales"
   ]
  },
  {
   "cell_type": "code",
   "execution_count": null,
   "id": "485cb3a6",
   "metadata": {},
   "outputs": [],
   "source": [
    "from gapminder import gapminder # data set\n",
    "\n",
    "# data\n",
    "data = gapminder.loc[gapminder.year == 2007]\n",
    "\n",
    "# use the scatterplot function to build the bubble map\n",
    "sns.scatterplot(data=data, x=\"gdpPercap\", y=\"lifeExp\", size=\"pop\", legend=False, sizes=(20, 2000))\n",
    "\n",
    "# show the graph\n",
    "plt.show()"
   ]
  },
  {
   "cell_type": "markdown",
   "id": "c01cd435",
   "metadata": {},
   "source": [
    "## 6. KDE Plot\n",
    "Kernel Density Estimation (KDE) merupakan metode non-parametrik untuk memperkirakan fungsi kepadatan (densitas) probabilitas dan rata-ratanya di seluruh titik data yang diamati untuk membuat perkiraan. KDE berkaitan erat dengan histogram, tetapi ada fitur smoothness dan continuity dengan konsep yang disebut kernel. Contoh KDE plot adalah mengestimasi kebutuhan modal bagi risiko operasional pada bidang perbankan dimana bank harus mengestimasi Loss Severity Distribution (LSD) dan Loss Frequency Distribution (LFD)"
   ]
  },
  {
   "cell_type": "code",
   "execution_count": null,
   "id": "c0a5e91f",
   "metadata": {},
   "outputs": [],
   "source": [
    "from numpy.random import randn\n",
    "\n",
    "sns.set_palette(\"hls\")\n",
    "plt.rc(\"figure\", figsize=(10,6))\n",
    "data = randn(250)\n",
    "plt.title(\"KDE Demonstration using Seaborn and Matplotlib\",fontsize=20)\n",
    "sns.distplot(data, color='#ff8000')"
   ]
  }
 ],
 "metadata": {
  "kernelspec": {
   "display_name": "Python 3",
   "language": "python",
   "name": "python3"
  },
  "language_info": {
   "codemirror_mode": {
    "name": "ipython",
    "version": 3
   },
   "file_extension": ".py",
   "mimetype": "text/x-python",
   "name": "python",
   "nbconvert_exporter": "python",
   "pygments_lexer": "ipython3",
   "version": "3.8.8"
  }
 },
 "nbformat": 4,
 "nbformat_minor": 5
}
