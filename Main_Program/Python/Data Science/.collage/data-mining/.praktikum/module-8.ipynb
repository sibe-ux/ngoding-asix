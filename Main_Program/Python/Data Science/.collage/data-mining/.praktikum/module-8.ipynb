{
 "cells": [
  {
   "cell_type": "markdown",
   "metadata": {},
   "source": [
    "1. ulangi proses klasifikasi menggunakan perceptron pada dataset  wine dan breastcancer. Masing masing gunakan perbandingan 0.2, 0.3, 0.4. tuliskan akurasinya"
   ]
  },
  {
   "cell_type": "markdown",
   "metadata": {},
   "source": [
    "WINE"
   ]
  },
  {
   "cell_type": "code",
   "execution_count": 88,
   "metadata": {
    "vscode": {
     "languageId": "powershell"
    }
   },
   "outputs": [],
   "source": [
    "from sklearn import datasets\n",
    "from sklearn.model_selection import train_test_split\n",
    "from sklearn.preprocessing import StandardScaler\n",
    "from sklearn.metrics import accuracy_score\n",
    "from sklearn.linear_model import Perceptron\n",
    "from sklearn.ensemble import BaggingClassifier"
   ]
  },
  {
   "cell_type": "code",
   "execution_count": 89,
   "metadata": {
    "vscode": {
     "languageId": "powershell"
    }
   },
   "outputs": [],
   "source": [
    "# data dinormalisasikan agar menjadi nilai standar\n",
    "data_wine = datasets.load_wine()\n",
    "x = data_wine.data\n",
    "y = data_wine.target\n",
    "\n",
    "x_train, x_test, y_train, y_test = train_test_split(x, y, test_size=0.2, random_state=0)\n",
    "x_train2, x_test2, y_train2, y_test2 = train_test_split(x, y, test_size=0.3, random_state=0)\n",
    "x_train3, x_test3, y_train3, y_test3 = train_test_split(x, y, test_size=0.4, random_state=0)\n",
    "\n",
    "stand = StandardScaler()\n",
    "stand.fit(x_train)\n",
    "x_train_std = stand.transform(x_train)\n",
    "x_test_std = stand.transform(x_test)\n",
    "\n",
    "stand.fit(x_train2)\n",
    "x_train2_std = stand.transform(x_train2)\n",
    "x_test2_std = stand.transform(x_test2)\n",
    "\n",
    "stand.fit(x_train3)\n",
    "x_train3_std = stand.transform(x_train3)\n",
    "x_test3_std = stand.transform(x_test3)"
   ]
  },
  {
   "cell_type": "code",
   "execution_count": 90,
   "metadata": {
    "vscode": {
     "languageId": "powershell"
    }
   },
   "outputs": [
    {
     "name": "stdout",
     "output_type": "stream",
     "text": [
      "Accuracy: 0.97\n",
      "Accuracy: 1.00\n",
      "Accuracy: 0.94\n"
     ]
    }
   ],
   "source": [
    "# preceptron\n",
    "ppn = Perceptron(eta0=0.1, random_state=0)\n",
    "\n",
    "ppn.fit(x_train_std, y_train)\n",
    "y_pred = ppn.predict(x_test_std)\n",
    "print('Accuracy: %.2f' % accuracy_score(y_test, y_pred))\n",
    "\n",
    "ppn.fit(x_train2_std, y_train2)\n",
    "y_pred2 = ppn.predict(x_test2_std)\n",
    "print('Accuracy: %.2f' % accuracy_score(y_test2, y_pred2))\n",
    "\n",
    "ppn.fit(x_train3_std, y_train3)\n",
    "y_pred3 = ppn.predict(x_test3_std)\n",
    "print('Accuracy: %.2f' % accuracy_score(y_test3, y_pred3))"
   ]
  },
  {
   "cell_type": "markdown",
   "metadata": {},
   "source": [
    "BREAST CANCER"
   ]
  },
  {
   "cell_type": "code",
   "execution_count": 91,
   "metadata": {
    "vscode": {
     "languageId": "powershell"
    }
   },
   "outputs": [],
   "source": [
    "from sklearn import datasets\n",
    "from sklearn.model_selection import train_test_split\n",
    "from sklearn.preprocessing import StandardScaler\n",
    "from sklearn.metrics import accuracy_score\n",
    "from sklearn.linear_model import Perceptron\n",
    "from sklearn.ensemble import BaggingClassifier"
   ]
  },
  {
   "cell_type": "code",
   "execution_count": 92,
   "metadata": {
    "vscode": {
     "languageId": "powershell"
    }
   },
   "outputs": [],
   "source": [
    "# data dinormalisasikan agar menjadi nilai standar\n",
    "data_breast_cancer = datasets.load_breast_cancer()\n",
    "x = data_breast_cancer.data\n",
    "y = data_breast_cancer.target\n",
    "\n",
    "x_train, x_test, y_train, y_test = train_test_split(x, y, test_size=0.2, random_state=0)\n",
    "x_train2, x_test2, y_train2, y_test2 = train_test_split(x, y, test_size=0.3, random_state=0)\n",
    "x_train3, x_test3, y_train3, y_test3 = train_test_split(x, y, test_size=0.4, random_state=0)\n",
    "\n",
    "stand = StandardScaler()\n",
    "stand.fit(x_train)\n",
    "x_train_std = stand.transform(x_train)\n",
    "x_test_std = stand.transform(x_test)\n",
    "\n",
    "stand.fit(x_train2)\n",
    "x_train2_std = stand.transform(x_train2)\n",
    "x_test2_std = stand.transform(x_test2)\n",
    "\n",
    "stand.fit(x_train3)\n",
    "x_train3_std = stand.transform(x_train3)\n",
    "x_test3_std = stand.transform(x_test3)"
   ]
  },
  {
   "cell_type": "code",
   "execution_count": 93,
   "metadata": {
    "vscode": {
     "languageId": "powershell"
    }
   },
   "outputs": [
    {
     "name": "stdout",
     "output_type": "stream",
     "text": [
      "Accuracy: 0.95\n",
      "Accuracy: 0.95\n",
      "Accuracy: 0.96\n"
     ]
    }
   ],
   "source": [
    "# perceptron\n",
    "ppn = Perceptron(eta0=0.1, random_state=0)\n",
    "\n",
    "ppn.fit(x_train_std, y_train)\n",
    "y_pred = ppn.predict(x_test_std)\n",
    "print('Accuracy: %.2f' % accuracy_score(y_test, y_pred))\n",
    "\n",
    "ppn.fit(x_train2_std, y_train2)\n",
    "y_pred2 = ppn.predict(x_test2_std)\n",
    "print('Accuracy: %.2f' % accuracy_score(y_test2, y_pred2))\n",
    "\n",
    "ppn.fit(x_train3_std, y_train3)\n",
    "y_pred3 = ppn.predict(x_test3_std)\n",
    "print('Accuracy: %.2f' % accuracy_score(y_test3, y_pred3))"
   ]
  },
  {
   "cell_type": "markdown",
   "metadata": {},
   "source": [
    "2. Ulangi proses klasifikasi menggunakan bagging dengan base classifier perceptron pada dataset wine dan breastcancer. Gunakan perbandingan test set 0,3. Masing-masing gunakan perbandingan n_estmators = 100, 200, dan 300. tuliskan akurasinya"
   ]
  },
  {
   "cell_type": "markdown",
   "metadata": {},
   "source": [
    "WINE"
   ]
  },
  {
   "cell_type": "code",
   "execution_count": 94,
   "metadata": {
    "vscode": {
     "languageId": "powershell"
    }
   },
   "outputs": [],
   "source": [
    "wine = datasets.load_wine()\n",
    "x = wine.data\n",
    "y = wine.target\n",
    "\n",
    "x_train, x_test, y_train, y_test = train_test_split(x, y, test_size=0.3, random_state=0)\n",
    "\n",
    "# data dinormalisasikan agar menjadi nilai standar\n",
    "stand = StandardScaler()\n",
    "stand.fit(x_train)\n",
    "x_train_std = stand.transform(x_train)\n",
    "x_test_std = stand.transform(x_test)\n",
    "\n",
    "# classification using bagging with base classifier = perceptron\n",
    "ppn = Perceptron(eta0=0.1, random_state=0)"
   ]
  },
  {
   "cell_type": "code",
   "execution_count": 95,
   "metadata": {
    "vscode": {
     "languageId": "powershell"
    }
   },
   "outputs": [
    {
     "name": "stdout",
     "output_type": "stream",
     "text": [
      "Accuracy bagging classifier 100 estimators: 1.000\n"
     ]
    }
   ],
   "source": [
    "bag_classifier = BaggingClassifier(base_estimator=ppn, n_estimators=100, max_samples=1.0, max_features=1.0, bootstrap=True, bootstrap_features=False, n_jobs=1, random_state=0)\n",
    "bag_classifier.fit(x_train_std, y_train)\n",
    "y_pred = bag_classifier.predict(x_test_std)\n",
    "acc = accuracy_score(y_test, y_pred)\n",
    "print('Accuracy bagging classifier 100 estimators: %.3f' % acc)"
   ]
  },
  {
   "cell_type": "code",
   "execution_count": 96,
   "metadata": {
    "vscode": {
     "languageId": "powershell"
    }
   },
   "outputs": [
    {
     "name": "stdout",
     "output_type": "stream",
     "text": [
      "Accuracy bagging classifier 200 estimators: 1.000\n"
     ]
    }
   ],
   "source": [
    "bag_classifier2 = BaggingClassifier(base_estimator=ppn, n_estimators=200, max_samples=1.0, max_features=1.0, bootstrap=True, bootstrap_features=False, n_jobs=1, random_state=0)\n",
    "bag_classifier2.fit(x_train_std, y_train)\n",
    "y_pred2 = bag_classifier2.predict(x_test_std)\n",
    "acc2 = accuracy_score(y_test, y_pred2)\n",
    "print('Accuracy bagging classifier 200 estimators: %.3f' % acc2)"
   ]
  },
  {
   "cell_type": "code",
   "execution_count": 97,
   "metadata": {
    "vscode": {
     "languageId": "powershell"
    }
   },
   "outputs": [
    {
     "name": "stdout",
     "output_type": "stream",
     "text": [
      "Accuracy bagging classifier 300 estimators: 1.000\n"
     ]
    }
   ],
   "source": [
    "bag_classifier3 = BaggingClassifier(base_estimator=ppn, n_estimators=300, max_samples=1.0, max_features=1.0, bootstrap=True, bootstrap_features=False, n_jobs=1, random_state=0)\n",
    "bag_classifier3.fit(x_train_std, y_train)\n",
    "y_pred3 = bag_classifier3.predict(x_test_std)\n",
    "acc3 = accuracy_score(y_test, y_pred3)\n",
    "print('Accuracy bagging classifier 300 estimators: %.3f' % acc3)"
   ]
  },
  {
   "cell_type": "markdown",
   "metadata": {},
   "source": [
    "BREAST CANCER"
   ]
  },
  {
   "cell_type": "code",
   "execution_count": 98,
   "metadata": {
    "vscode": {
     "languageId": "powershell"
    }
   },
   "outputs": [],
   "source": [
    "data_breast_cancer = datasets.load_breast_cancer()\n",
    "x = data_breast_cancer.data\n",
    "y = data_breast_cancer.target\n",
    "\n",
    "x_train, x_test, y_train, y_test = train_test_split(x, y, test_size=0.3, random_state=0)\n",
    "\n",
    "# data dinormalisasikan agar menjadi nilai standar\n",
    "stand = StandardScaler()\n",
    "stand.fit(x_train)\n",
    "x_train_std = stand.transform(x_train)\n",
    "x_test_std = stand.transform(x_test)\n",
    "\n",
    "ppn2 = Perceptron(eta0=0.1, random_state=0)"
   ]
  },
  {
   "cell_type": "code",
   "execution_count": 99,
   "metadata": {
    "vscode": {
     "languageId": "powershell"
    }
   },
   "outputs": [],
   "source": [
    "from sklearn.ensemble import BaggingClassifier"
   ]
  },
  {
   "cell_type": "code",
   "execution_count": 100,
   "metadata": {
    "vscode": {
     "languageId": "powershell"
    }
   },
   "outputs": [
    {
     "name": "stdout",
     "output_type": "stream",
     "text": [
      "Accuracy bagging classifier 100 estimators: 0.947\n"
     ]
    }
   ],
   "source": [
    "BaggingClassifier = BaggingClassifier(base_estimator=ppn2, n_estimators=100, max_samples=1.0, max_features=1.0, bootstrap=True, bootstrap_features=False, n_jobs=1, random_state=0)\n",
    "BaggingClassifier.fit(x_train_std, y_train)\n",
    "y_pred = BaggingClassifier.predict(x_test_std)\n",
    "acc = accuracy_score(y_test, y_pred)\n",
    "print('Accuracy bagging classifier 100 estimators: %.3f' % acc)"
   ]
  },
  {
   "cell_type": "code",
   "execution_count": 101,
   "metadata": {
    "vscode": {
     "languageId": "powershell"
    }
   },
   "outputs": [],
   "source": [
    "from sklearn.ensemble import BaggingClassifier"
   ]
  },
  {
   "cell_type": "code",
   "execution_count": 102,
   "metadata": {
    "vscode": {
     "languageId": "powershell"
    }
   },
   "outputs": [
    {
     "name": "stdout",
     "output_type": "stream",
     "text": [
      "Accuracy bagging classifier 200 estimators: 0.942\n"
     ]
    }
   ],
   "source": [
    "BaggingClassifier2 = BaggingClassifier(base_estimator=ppn2, n_estimators=200, max_samples=1.0, max_features=1.0, bootstrap=True, bootstrap_features=False, n_jobs=1, random_state=0)\n",
    "BaggingClassifier2.fit(x_train_std, y_train)\n",
    "y_pred2 = BaggingClassifier2.predict(x_test_std)\n",
    "acc2 = accuracy_score(y_test, y_pred2)\n",
    "print('Accuracy bagging classifier 200 estimators: %.3f' % acc2)"
   ]
  },
  {
   "cell_type": "code",
   "execution_count": 103,
   "metadata": {
    "vscode": {
     "languageId": "powershell"
    }
   },
   "outputs": [],
   "source": [
    "from sklearn.ensemble import BaggingClassifier"
   ]
  },
  {
   "cell_type": "code",
   "execution_count": 104,
   "metadata": {
    "vscode": {
     "languageId": "powershell"
    }
   },
   "outputs": [
    {
     "name": "stdout",
     "output_type": "stream",
     "text": [
      "Accuracy bagging classifier 300 estimators: 0.942\n"
     ]
    }
   ],
   "source": [
    "BaggingClassifier3 = BaggingClassifier(base_estimator=ppn2, n_estimators=300, max_samples=1.0, max_features=1.0, bootstrap=True, bootstrap_features=False, n_jobs=1, random_state=0)\n",
    "BaggingClassifier3.fit(x_train_std, y_train)\n",
    "y_pred3 = BaggingClassifier3.predict(x_test_std)\n",
    "acc3 = accuracy_score(y_test, y_pred3)\n",
    "print('Accuracy bagging classifier 300 estimators: %.3f' % acc3)"
   ]
  }
 ],
 "metadata": {
  "kernelspec": {
   "display_name": "Python 3.9.12 ('base')",
   "language": "python",
   "name": "python3"
  },
  "language_info": {
   "codemirror_mode": {
    "name": "ipython",
    "version": 3
   },
   "file_extension": ".py",
   "mimetype": "text/x-python",
   "name": "python",
   "nbconvert_exporter": "python",
   "pygments_lexer": "ipython3",
   "version": "3.9.12"
  },
  "orig_nbformat": 4,
  "vscode": {
   "interpreter": {
    "hash": "384580620bea0506ac59a24e7e6051d5f7de7e90132e83f7a835aaaf5c4683e0"
   }
  }
 },
 "nbformat": 4,
 "nbformat_minor": 2
}
