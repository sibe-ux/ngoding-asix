{
  "cells": [
    {
      "cell_type": "code",
      "execution_count": 1,
      "metadata": {
        "id": "XJgHuE1H_dHe"
      },
      "outputs": [],
      "source": [
        "import math\n",
        "import matplotlib.pyplot as plt\n",
        "from matplotlib import style\n",
        "import numpy as np\n",
        "import pandas as pd\n",
        "plt.rcParams['figure.figsize'] = (16, 9)\n",
        "style.use('ggplot')"
      ]
    },
    {
      "cell_type": "code",
      "execution_count": 2,
      "metadata": {
        "colab": {
          "base_uri": "https://localhost:8080/",
          "height": 424
        },
        "id": "Ykv-kzDJ_kIG",
        "outputId": "a8d8552f-63e9-46bc-8eaf-61d3c5531151"
      },
      "outputs": [
        {
          "ename": "ValueError",
          "evalue": "embedded null character",
          "output_type": "error",
          "traceback": [
            "\u001b[1;31m---------------------------------------------------------------------------\u001b[0m",
            "\u001b[1;31mValueError\u001b[0m                                Traceback (most recent call last)",
            "\u001b[1;32mC:\\Users\\NASRUL~1\\AppData\\Local\\Temp/ipykernel_13148/1111415391.py\u001b[0m in \u001b[0;36m<module>\u001b[1;34m\u001b[0m\n\u001b[1;32m----> 1\u001b[1;33m df = pd.read_csv(\n\u001b[0m\u001b[0;32m      2\u001b[0m     'G:\\.shortcut-targets-by-id\\1GLhesaekxPRKr-lkNYX-mtfouqJhqhXN\\SIBEUX\\KULIAH\\00 - UNEJ\\Algorithm Programming\\PEMROGRAMAN\\Main Program\\data banjirre.csv')\n\u001b[0;32m      3\u001b[0m \u001b[0mdf\u001b[0m\u001b[1;33m\u001b[0m\u001b[1;33m\u001b[0m\u001b[0m\n",
            "\u001b[1;32mc:\\Users\\Nasrul Wahabi\\AppData\\Local\\Programs\\Python\\Python310\\lib\\site-packages\\pandas\\util\\_decorators.py\u001b[0m in \u001b[0;36mwrapper\u001b[1;34m(*args, **kwargs)\u001b[0m\n\u001b[0;32m    309\u001b[0m                     \u001b[0mstacklevel\u001b[0m\u001b[1;33m=\u001b[0m\u001b[0mstacklevel\u001b[0m\u001b[1;33m,\u001b[0m\u001b[1;33m\u001b[0m\u001b[1;33m\u001b[0m\u001b[0m\n\u001b[0;32m    310\u001b[0m                 )\n\u001b[1;32m--> 311\u001b[1;33m             \u001b[1;32mreturn\u001b[0m \u001b[0mfunc\u001b[0m\u001b[1;33m(\u001b[0m\u001b[1;33m*\u001b[0m\u001b[0margs\u001b[0m\u001b[1;33m,\u001b[0m \u001b[1;33m**\u001b[0m\u001b[0mkwargs\u001b[0m\u001b[1;33m)\u001b[0m\u001b[1;33m\u001b[0m\u001b[1;33m\u001b[0m\u001b[0m\n\u001b[0m\u001b[0;32m    312\u001b[0m \u001b[1;33m\u001b[0m\u001b[0m\n\u001b[0;32m    313\u001b[0m         \u001b[1;32mreturn\u001b[0m \u001b[0mwrapper\u001b[0m\u001b[1;33m\u001b[0m\u001b[1;33m\u001b[0m\u001b[0m\n",
            "\u001b[1;32mc:\\Users\\Nasrul Wahabi\\AppData\\Local\\Programs\\Python\\Python310\\lib\\site-packages\\pandas\\io\\parsers\\readers.py\u001b[0m in \u001b[0;36mread_csv\u001b[1;34m(filepath_or_buffer, sep, delimiter, header, names, index_col, usecols, squeeze, prefix, mangle_dupe_cols, dtype, engine, converters, true_values, false_values, skipinitialspace, skiprows, skipfooter, nrows, na_values, keep_default_na, na_filter, verbose, skip_blank_lines, parse_dates, infer_datetime_format, keep_date_col, date_parser, dayfirst, cache_dates, iterator, chunksize, compression, thousands, decimal, lineterminator, quotechar, quoting, doublequote, escapechar, comment, encoding, encoding_errors, dialect, error_bad_lines, warn_bad_lines, on_bad_lines, delim_whitespace, low_memory, memory_map, float_precision, storage_options)\u001b[0m\n\u001b[0;32m    584\u001b[0m     \u001b[0mkwds\u001b[0m\u001b[1;33m.\u001b[0m\u001b[0mupdate\u001b[0m\u001b[1;33m(\u001b[0m\u001b[0mkwds_defaults\u001b[0m\u001b[1;33m)\u001b[0m\u001b[1;33m\u001b[0m\u001b[1;33m\u001b[0m\u001b[0m\n\u001b[0;32m    585\u001b[0m \u001b[1;33m\u001b[0m\u001b[0m\n\u001b[1;32m--> 586\u001b[1;33m     \u001b[1;32mreturn\u001b[0m \u001b[0m_read\u001b[0m\u001b[1;33m(\u001b[0m\u001b[0mfilepath_or_buffer\u001b[0m\u001b[1;33m,\u001b[0m \u001b[0mkwds\u001b[0m\u001b[1;33m)\u001b[0m\u001b[1;33m\u001b[0m\u001b[1;33m\u001b[0m\u001b[0m\n\u001b[0m\u001b[0;32m    587\u001b[0m \u001b[1;33m\u001b[0m\u001b[0m\n\u001b[0;32m    588\u001b[0m \u001b[1;33m\u001b[0m\u001b[0m\n",
            "\u001b[1;32mc:\\Users\\Nasrul Wahabi\\AppData\\Local\\Programs\\Python\\Python310\\lib\\site-packages\\pandas\\io\\parsers\\readers.py\u001b[0m in \u001b[0;36m_read\u001b[1;34m(filepath_or_buffer, kwds)\u001b[0m\n\u001b[0;32m    480\u001b[0m \u001b[1;33m\u001b[0m\u001b[0m\n\u001b[0;32m    481\u001b[0m     \u001b[1;31m# Create the parser.\u001b[0m\u001b[1;33m\u001b[0m\u001b[1;33m\u001b[0m\u001b[0m\n\u001b[1;32m--> 482\u001b[1;33m     \u001b[0mparser\u001b[0m \u001b[1;33m=\u001b[0m \u001b[0mTextFileReader\u001b[0m\u001b[1;33m(\u001b[0m\u001b[0mfilepath_or_buffer\u001b[0m\u001b[1;33m,\u001b[0m \u001b[1;33m**\u001b[0m\u001b[0mkwds\u001b[0m\u001b[1;33m)\u001b[0m\u001b[1;33m\u001b[0m\u001b[1;33m\u001b[0m\u001b[0m\n\u001b[0m\u001b[0;32m    483\u001b[0m \u001b[1;33m\u001b[0m\u001b[0m\n\u001b[0;32m    484\u001b[0m     \u001b[1;32mif\u001b[0m \u001b[0mchunksize\u001b[0m \u001b[1;32mor\u001b[0m \u001b[0miterator\u001b[0m\u001b[1;33m:\u001b[0m\u001b[1;33m\u001b[0m\u001b[1;33m\u001b[0m\u001b[0m\n",
            "\u001b[1;32mc:\\Users\\Nasrul Wahabi\\AppData\\Local\\Programs\\Python\\Python310\\lib\\site-packages\\pandas\\io\\parsers\\readers.py\u001b[0m in \u001b[0;36m__init__\u001b[1;34m(self, f, engine, **kwds)\u001b[0m\n\u001b[0;32m    809\u001b[0m             \u001b[0mself\u001b[0m\u001b[1;33m.\u001b[0m\u001b[0moptions\u001b[0m\u001b[1;33m[\u001b[0m\u001b[1;34m\"has_index_names\"\u001b[0m\u001b[1;33m]\u001b[0m \u001b[1;33m=\u001b[0m \u001b[0mkwds\u001b[0m\u001b[1;33m[\u001b[0m\u001b[1;34m\"has_index_names\"\u001b[0m\u001b[1;33m]\u001b[0m\u001b[1;33m\u001b[0m\u001b[1;33m\u001b[0m\u001b[0m\n\u001b[0;32m    810\u001b[0m \u001b[1;33m\u001b[0m\u001b[0m\n\u001b[1;32m--> 811\u001b[1;33m         \u001b[0mself\u001b[0m\u001b[1;33m.\u001b[0m\u001b[0m_engine\u001b[0m \u001b[1;33m=\u001b[0m \u001b[0mself\u001b[0m\u001b[1;33m.\u001b[0m\u001b[0m_make_engine\u001b[0m\u001b[1;33m(\u001b[0m\u001b[0mself\u001b[0m\u001b[1;33m.\u001b[0m\u001b[0mengine\u001b[0m\u001b[1;33m)\u001b[0m\u001b[1;33m\u001b[0m\u001b[1;33m\u001b[0m\u001b[0m\n\u001b[0m\u001b[0;32m    812\u001b[0m \u001b[1;33m\u001b[0m\u001b[0m\n\u001b[0;32m    813\u001b[0m     \u001b[1;32mdef\u001b[0m \u001b[0mclose\u001b[0m\u001b[1;33m(\u001b[0m\u001b[0mself\u001b[0m\u001b[1;33m)\u001b[0m\u001b[1;33m:\u001b[0m\u001b[1;33m\u001b[0m\u001b[1;33m\u001b[0m\u001b[0m\n",
            "\u001b[1;32mc:\\Users\\Nasrul Wahabi\\AppData\\Local\\Programs\\Python\\Python310\\lib\\site-packages\\pandas\\io\\parsers\\readers.py\u001b[0m in \u001b[0;36m_make_engine\u001b[1;34m(self, engine)\u001b[0m\n\u001b[0;32m   1038\u001b[0m             )\n\u001b[0;32m   1039\u001b[0m         \u001b[1;31m# error: Too many arguments for \"ParserBase\"\u001b[0m\u001b[1;33m\u001b[0m\u001b[1;33m\u001b[0m\u001b[0m\n\u001b[1;32m-> 1040\u001b[1;33m         \u001b[1;32mreturn\u001b[0m \u001b[0mmapping\u001b[0m\u001b[1;33m[\u001b[0m\u001b[0mengine\u001b[0m\u001b[1;33m]\u001b[0m\u001b[1;33m(\u001b[0m\u001b[0mself\u001b[0m\u001b[1;33m.\u001b[0m\u001b[0mf\u001b[0m\u001b[1;33m,\u001b[0m \u001b[1;33m**\u001b[0m\u001b[0mself\u001b[0m\u001b[1;33m.\u001b[0m\u001b[0moptions\u001b[0m\u001b[1;33m)\u001b[0m  \u001b[1;31m# type: ignore[call-arg]\u001b[0m\u001b[1;33m\u001b[0m\u001b[1;33m\u001b[0m\u001b[0m\n\u001b[0m\u001b[0;32m   1041\u001b[0m \u001b[1;33m\u001b[0m\u001b[0m\n\u001b[0;32m   1042\u001b[0m     \u001b[1;32mdef\u001b[0m \u001b[0m_failover_to_python\u001b[0m\u001b[1;33m(\u001b[0m\u001b[0mself\u001b[0m\u001b[1;33m)\u001b[0m\u001b[1;33m:\u001b[0m\u001b[1;33m\u001b[0m\u001b[1;33m\u001b[0m\u001b[0m\n",
            "\u001b[1;32mc:\\Users\\Nasrul Wahabi\\AppData\\Local\\Programs\\Python\\Python310\\lib\\site-packages\\pandas\\io\\parsers\\c_parser_wrapper.py\u001b[0m in \u001b[0;36m__init__\u001b[1;34m(self, src, **kwds)\u001b[0m\n\u001b[0;32m     49\u001b[0m \u001b[1;33m\u001b[0m\u001b[0m\n\u001b[0;32m     50\u001b[0m         \u001b[1;31m# open handles\u001b[0m\u001b[1;33m\u001b[0m\u001b[1;33m\u001b[0m\u001b[0m\n\u001b[1;32m---> 51\u001b[1;33m         \u001b[0mself\u001b[0m\u001b[1;33m.\u001b[0m\u001b[0m_open_handles\u001b[0m\u001b[1;33m(\u001b[0m\u001b[0msrc\u001b[0m\u001b[1;33m,\u001b[0m \u001b[0mkwds\u001b[0m\u001b[1;33m)\u001b[0m\u001b[1;33m\u001b[0m\u001b[1;33m\u001b[0m\u001b[0m\n\u001b[0m\u001b[0;32m     52\u001b[0m         \u001b[1;32massert\u001b[0m \u001b[0mself\u001b[0m\u001b[1;33m.\u001b[0m\u001b[0mhandles\u001b[0m \u001b[1;32mis\u001b[0m \u001b[1;32mnot\u001b[0m \u001b[1;32mNone\u001b[0m\u001b[1;33m\u001b[0m\u001b[1;33m\u001b[0m\u001b[0m\n\u001b[0;32m     53\u001b[0m \u001b[1;33m\u001b[0m\u001b[0m\n",
            "\u001b[1;32mc:\\Users\\Nasrul Wahabi\\AppData\\Local\\Programs\\Python\\Python310\\lib\\site-packages\\pandas\\io\\parsers\\base_parser.py\u001b[0m in \u001b[0;36m_open_handles\u001b[1;34m(self, src, kwds)\u001b[0m\n\u001b[0;32m    220\u001b[0m         \u001b[0mLet\u001b[0m \u001b[0mthe\u001b[0m \u001b[0mreaders\u001b[0m \u001b[0mopen\u001b[0m \u001b[0mIOHandles\u001b[0m \u001b[0mafter\u001b[0m \u001b[0mthey\u001b[0m \u001b[0mare\u001b[0m \u001b[0mdone\u001b[0m \u001b[1;32mwith\u001b[0m \u001b[0mtheir\u001b[0m \u001b[0mpotential\u001b[0m \u001b[0mraises\u001b[0m\u001b[1;33m.\u001b[0m\u001b[1;33m\u001b[0m\u001b[1;33m\u001b[0m\u001b[0m\n\u001b[0;32m    221\u001b[0m         \"\"\"\n\u001b[1;32m--> 222\u001b[1;33m         self.handles = get_handle(\n\u001b[0m\u001b[0;32m    223\u001b[0m             \u001b[0msrc\u001b[0m\u001b[1;33m,\u001b[0m\u001b[1;33m\u001b[0m\u001b[1;33m\u001b[0m\u001b[0m\n\u001b[0;32m    224\u001b[0m             \u001b[1;34m\"r\"\u001b[0m\u001b[1;33m,\u001b[0m\u001b[1;33m\u001b[0m\u001b[1;33m\u001b[0m\u001b[0m\n",
            "\u001b[1;32mc:\\Users\\Nasrul Wahabi\\AppData\\Local\\Programs\\Python\\Python310\\lib\\site-packages\\pandas\\io\\common.py\u001b[0m in \u001b[0;36mget_handle\u001b[1;34m(path_or_buf, mode, encoding, compression, memory_map, is_text, errors, storage_options)\u001b[0m\n\u001b[0;32m    700\u001b[0m         \u001b[1;32mif\u001b[0m \u001b[0mioargs\u001b[0m\u001b[1;33m.\u001b[0m\u001b[0mencoding\u001b[0m \u001b[1;32mand\u001b[0m \u001b[1;34m\"b\"\u001b[0m \u001b[1;32mnot\u001b[0m \u001b[1;32min\u001b[0m \u001b[0mioargs\u001b[0m\u001b[1;33m.\u001b[0m\u001b[0mmode\u001b[0m\u001b[1;33m:\u001b[0m\u001b[1;33m\u001b[0m\u001b[1;33m\u001b[0m\u001b[0m\n\u001b[0;32m    701\u001b[0m             \u001b[1;31m# Encoding\u001b[0m\u001b[1;33m\u001b[0m\u001b[1;33m\u001b[0m\u001b[0m\n\u001b[1;32m--> 702\u001b[1;33m             handle = open(\n\u001b[0m\u001b[0;32m    703\u001b[0m                 \u001b[0mhandle\u001b[0m\u001b[1;33m,\u001b[0m\u001b[1;33m\u001b[0m\u001b[1;33m\u001b[0m\u001b[0m\n\u001b[0;32m    704\u001b[0m                 \u001b[0mioargs\u001b[0m\u001b[1;33m.\u001b[0m\u001b[0mmode\u001b[0m\u001b[1;33m,\u001b[0m\u001b[1;33m\u001b[0m\u001b[1;33m\u001b[0m\u001b[0m\n",
            "\u001b[1;31mValueError\u001b[0m: embedded null character"
          ]
        }
      ],
      "source": [
        "df = pd.read_csv(\n",
        "    'G:\\.shortcut-targets-by-id\\1GLhesaekxPRKr-lkNYX-mtfouqJhqhXN\\SIBEUX\\KULIAH\\00 - UNEJ\\Algorithm Programming\\PEMROGRAMAN\\Main Program\\data banjirre.csv')\n",
        "df\n"
      ]
    },
    {
      "cell_type": "code",
      "execution_count": null,
      "metadata": {
        "colab": {
          "base_uri": "https://localhost:8080/",
          "height": 554
        },
        "id": "6iWEGznE_0Az",
        "outputId": "d7f38b98-c4c7-48e2-a57c-d7d89faa9a3a"
      },
      "outputs": [],
      "source": [
        "f1 = df['jumlah_banjir'].values\n",
        "f2 = df['jumlah_bencana_alam'].values\n",
        "original_data = np.array(list(zip(f1, f2)))\n",
        "data = np.array(list(zip(f1, f2)))\n",
        "plt.scatter(f1, f2, c='black', s=7)"
      ]
    },
    {
      "cell_type": "code",
      "execution_count": null,
      "metadata": {
        "id": "JIkhFlOu__lh"
      },
      "outputs": [],
      "source": [
        "def init_centroids(k, data):\n",
        "  c = []\n",
        "  s = np.random.randint(low=1, high=len(data), size=k)\n",
        "  while (len(s) != len(set(s))):\n",
        "          s = np.random.randint(low=1, high=len(data), size=k)\n",
        "      # For every i in s, get ith feature from dataset, and add it to list\n",
        "  for i in s:\n",
        "      c.append(data[i])\n",
        "  return c\n",
        "    "
      ]
    },
    {
      "cell_type": "code",
      "execution_count": null,
      "metadata": {
        "id": "KQ4uUQ4iAl3e"
      },
      "outputs": [],
      "source": [
        "def euc_dist(a, b):\n",
        "  sum = 0\n",
        "  for i, j in zip(a, b):\n",
        "      a = (i - j) * (i - j)\n",
        "      sum = sum + a\n",
        "  return math.sqrt(sum)"
      ]
    },
    {
      "cell_type": "code",
      "execution_count": null,
      "metadata": {
        "id": "MNcSNCbdAybr"
      },
      "outputs": [],
      "source": [
        "def cal_dist(centroids, data):\n",
        "  c_dist = []\n",
        "    # For each centroid c, iterate through all points in data to calculate its distance from c\n",
        "  for i in centroids:\n",
        "      temp = []\n",
        "      for j in data:\n",
        "          temp.append(euc_dist(i, j))\n",
        "      c_dist.append(temp)\n",
        "  return c_dist\n",
        " "
      ]
    },
    {
      "cell_type": "code",
      "execution_count": null,
      "metadata": {
        "id": "SnfL6fGLBvPC"
      },
      "outputs": [],
      "source": [
        "def perf_clustering(k, dist_table):\n",
        "  clusters = []\n",
        "  for i in range(k):\n",
        "      clusters.append([])\n",
        "  # start clustering data points, such that each point is clustered to nearest centroid\n",
        "  for i in range(len(dist_table[0])):\n",
        "      d = []\n",
        "      for j in range(len(dist_table)):\n",
        "          d.append(dist_table[j][i])\n",
        "      clusters[d.index(min(d))].append(i)\n",
        "  return clusters"
      ]
    },
    {
      "cell_type": "code",
      "execution_count": null,
      "metadata": {
        "id": "h8zkQFuwB_EF"
      },
      "outputs": [],
      "source": [
        "def update_centroids(centroids, cluster_table, data):\n",
        "  for i in range(len(centroids)):\n",
        "        # Update the centroid if there are some flowers within this centroid\n",
        "        if (len(cluster_table[i]) > 0):\n",
        "            temp = []\n",
        "            # Copy features of cluster members to temp list\n",
        "            for j in cluster_table[i]:\n",
        "                temp.append(list(data[j]))\n",
        "            # Take mean of features of all members of cluster to get new centroid location\n",
        "            sum = [0] * len(centroids[i])\n",
        "            for l in temp:\n",
        "                sum = [(a + b) for a, b in zip(sum, l)]\n",
        "            centroids[i] = [p / len(temp) for p in sum]\n",
        "  \n",
        "  return centroids\n",
        " "
      ]
    },
    {
      "cell_type": "code",
      "execution_count": null,
      "metadata": {
        "id": "6GQE_9NWCVP1"
      },
      "outputs": [],
      "source": [
        "def check_n_stop(dist_mem, cluster_mem):\n",
        "  c1 = all(x == dist_mem[0] for x in dist_mem)\n",
        "    # Check if cluster table has not changed over past iterations\n",
        "  c2 = all(y == cluster_mem[0] for y in cluster_mem)\n",
        "\n",
        "  if c1:\n",
        "      print(\"Stopping... Distance table has not changed from few iterations\")\n",
        "  elif c2:\n",
        "      print(\"Stopping... Cluster table has not changed from few iterations\")\n",
        "  return c1 or c2"
      ]
    },
    {
      "cell_type": "code",
      "execution_count": null,
      "metadata": {
        "colab": {
          "base_uri": "https://localhost:8080/"
        },
        "id": "6_BS5artCddo",
        "outputId": "e27b82ec-eae7-4897-8daa-41c5419624ab"
      },
      "outputs": [],
      "source": [
        "\n",
        "k = 3\n",
        "max_iterations = 100\n",
        "dist_mem = []\n",
        "cluster_mem = []\n",
        "\n",
        "# Initialize centroids\n",
        "centroids = init_centroids(k, data)\n",
        "# Calculate distance table\n",
        "distance_table = cal_dist(centroids, data)\n",
        "# Perform clustering based on above generated distance table\n",
        "cluster_table = perf_clustering(k, distance_table)\n",
        "# Update centroid location based on above generated cluster table\n",
        "newCentroids = update_centroids(centroids, cluster_table, data)\n",
        "\n",
        "# Add distance and cluster table to memory list\n",
        "dist_mem.append(distance_table)\n",
        "cluster_mem.append(cluster_table)\n",
        "\n",
        "# Repeat from step 2 till stopping criteria is met\n",
        "for i in range(max_iterations):\n",
        "    distance_table = cal_dist(newCentroids, data)\n",
        "    cluster_table = perf_clustering(k, distance_table)\n",
        "    newCentroids = update_centroids(newCentroids, cluster_table, data)\n",
        "\n",
        "    # Check for stopping criteria\n",
        "    # Maintain memory for past distance table and cluster table\n",
        "    dist_mem.append(distance_table)\n",
        "    cluster_mem.append(cluster_table)\n",
        "    # If distance/cluster has not changed over last 10 iterations, stop, else continue\n",
        "    if len(dist_mem) > 10:\n",
        "        dist_mem.pop(0)\n",
        "        cluster_mem.pop(0)\n",
        "        if check_n_stop(dist_mem, cluster_mem):\n",
        "            print(\"Stopped at iteration #\", i)\n",
        "            break\n",
        "\n",
        "\n",
        "  "
      ]
    },
    {
      "cell_type": "code",
      "execution_count": null,
      "metadata": {
        "colab": {
          "base_uri": "https://localhost:8080/"
        },
        "id": "_jtppehrNruC",
        "outputId": "717673fc-2857-4653-96fe-00a645ecbd3b"
      },
      "outputs": [],
      "source": [
        "for i in range(len(newCentroids)):\n",
        "  print(\"centroid \",i, \" :\", newCentroids[i])"
      ]
    },
    {
      "cell_type": "code",
      "execution_count": null,
      "metadata": {
        "colab": {
          "base_uri": "https://localhost:8080/"
        },
        "id": "qWdSzWl3Nk-X",
        "outputId": "c7c4e95d-96cd-4917-e6c7-850e758dca67"
      },
      "outputs": [],
      "source": [
        "# Display the final results\n",
        "dump = []\n",
        "indeks = dict()\n",
        "for i in range(len(newCentroids)):\n",
        "    # print(\"Centroid #\", i, \": \", newCentroids[i])\n",
        "    # print(\"jumlah data : \", len(cluster_table[i]))\n",
        "    # print(\"Members of the cluster: \")\n",
        "    for j in range(len(cluster_table[i])):\n",
        "        # print(original_data[cluster_table[i][j]])\n",
        "        af = df[(df[\"jumlah_banjir\"] == original_data[cluster_table[i][j]][0]) & (\n",
        "            df[\"jumlah_bencana_alam\"] == original_data[cluster_table[i][j]][1])]\n",
        "        if len(af) > 1:\n",
        "            if indeks.setdefault(str(','.join([str(i) for i in af['id']]))) == None:\n",
        "                year = [str(i) for i in af['tahun']]\n",
        "                town = af['nama_kabupaten_kota'].values\n",
        "                p = str(','.join([str(i) for i in af['id']]))\n",
        "                cek = indeks.update({p:0})\n",
        "                z = indeks.setdefault(str(','.join([str(i) for i in af['id']])))\n",
        "                dump.append([i, newCentroids[i], len(cluster_table[i]),\n",
        "                            original_data[cluster_table[i][j]], original_data[cluster_table[i][j]][0], \n",
        "                            original_data[cluster_table[i][j]][1],town[z] ,year[z]])\n",
        "            else:\n",
        "                year = [str(i) for i in af['tahun']]\n",
        "                town = af['nama_kabupaten_kota'].values\n",
        "                p = str(','.join([str(i) for i in af['id']]))\n",
        "                test = indeks.setdefault(str(','.join([str(i) for i in af['id']])))\n",
        "                cek = indeks.update({p:test+1})\n",
        "                test = indeks.setdefault(str(','.join([str(i) for i in af['id']])))\n",
        "                dump.append([i, newCentroids[i], len(cluster_table[i]),\n",
        "                        original_data[cluster_table[i][j]], original_data[cluster_table[i][j]][0], \n",
        "                        original_data[cluster_table[i][j]][1],town[test] ,year[test]])\n",
        "        else:\n",
        "            year = [str(i) for i in af['tahun']]\n",
        "            town = af['nama_kabupaten_kota'].values\n",
        "            dump.append([i, newCentroids[i], len(cluster_table[i]),\n",
        "                        original_data[cluster_table[i][j]], original_data[cluster_table[i][j]][0],\n",
        "                        original_data[cluster_table[i][j]][1],\" \".join(af['nama_kabupaten_kota'].values) ,\" \".join(year)])\n",
        "cols = [\"indeks\", \"Centroid\", \"Jumlah data\",\n",
        "        \"Member of the cluster\", \"Jumlah Banjir\", \"Jumlah Bencana Alam\", \"Nama Kabupaten/Kota\",\"Tahun\"]\n",
        "pd.DataFrame(dump)\n",
        "sf = pd.DataFrame(dump, columns=cols)\n",
        "pd.set_option('display.max_row',df.shape[0]+1)\n",
        "sf\n"
      ]
    },
    {
      "cell_type": "code",
      "execution_count": null,
      "metadata": {},
      "outputs": [],
      "source": [
        "# Display the final results\n",
        "dump = []\n",
        "indeks = dict()\n",
        "for i in range(len(newCentroids)):\n",
        "    # print(\"Centroid #\", i, \": \", newCentroids[i])\n",
        "    # print(\"jumlah data : \", len(cluster_table[i]))\n",
        "    # print(\"Members of the cluster: \")\n",
        "    for j in range(len(cluster_table[i])):\n",
        "        # print(original_data[cluster_table[i][j]])\n",
        "        af = df[(df[\"jumlah_banjir\"] == original_data[cluster_table[i][j]][0]) & (\n",
        "            df[\"jumlah_bencana_alam\"] == original_data[cluster_table[i][j]][1])]\n",
        "        if len(af) > 1:\n",
        "            if indeks.setdefault(str(','.join([str(i) for i in af['id']]))) == None:\n",
        "                year = [str(i) for i in af['tahun']]\n",
        "                town = af['nama_kabupaten_kota'].values\n",
        "                p = str(','.join([str(i) for i in af['id']]))\n",
        "                cek = indeks.update({p:0})\n",
        "                z = indeks.setdefault(str(','.join([str(i) for i in af['id']])))\n",
        "                dump.append([i, newCentroids[i], len(cluster_table[i]),\n",
        "                            original_data[cluster_table[i][j]], original_data[cluster_table[i][j]][0], \n",
        "                            original_data[cluster_table[i][j]][1],town[z] ,year[z]])\n",
        "            else:\n",
        "                year = [str(i) for i in af['tahun']]\n",
        "                town = af['nama_kabupaten_kota'].values\n",
        "                p = str(','.join([str(i) for i in af['id']]))\n",
        "                test = indeks.setdefault(str(','.join([str(i) for i in af['id']])))\n",
        "                cek = indeks.update({p:test+1})\n",
        "                test = indeks.setdefault(str(','.join([str(i) for i in af['id']])))\n",
        "                dump.append([i, newCentroids[i], len(cluster_table[i]),\n",
        "                        original_data[cluster_table[i][j]], original_data[cluster_table[i][j]][0], \n",
        "                        original_data[cluster_table[i][j]][1],town[test] ,year[test]])\n",
        "        else:\n",
        "            year = [str(i) for i in af['tahun']]\n",
        "            town = af['nama_kabupaten_kota'].values\n",
        "            dump.append([i, newCentroids[i], len(cluster_table[i]),\n",
        "                        original_data[cluster_table[i][j]], original_data[cluster_table[i][j]][0],\n",
        "                        original_data[cluster_table[i][j]][1],\" \".join(af['nama_kabupaten_kota'].values) ,\" \".join(year)])\n",
        "cols = [\"indeks\", \"Centroid\", \"Jumlah data\",\n",
        "        \"Member of the cluster\", \"Jumlah Banjir\", \"Jumlah Bencana Alam\", \"Nama Kabupaten/Kota\",\"Tahun\"]\n",
        "pd.DataFrame(dump)\n",
        "sf = pd.DataFrame(dump, columns=cols)\n",
        "inputKota = str(input(\"Kota/Kabupaten : \").upper())\n",
        "sf[sf['Nama Kabupaten/Kota'].isin([inputKota])]\n"
      ]
    },
    {
      "cell_type": "code",
      "execution_count": null,
      "metadata": {},
      "outputs": [],
      "source": [
        "# dump1 = []\n",
        "# for i in range(len(newCentroids)):\n",
        "#     for j in range(len(cluster_table[i])):\n",
        "#         gf = df[(df[\"jumlah_banjir\"] == original_data[cluster_table[i][j]][0]) & (\n",
        "#             df[\"jumlah_bencana_alam\"] == original_data[cluster_table[i][j]][1])]\n",
        "#         year = [str(i) for i in gf['tahun']]\n",
        "#         town = gf['nama_kabupaten_kota'].values\n",
        "#         dump1.append([i, newCentroids[i], len(cluster_table[i]),\n",
        "#                     original_data[cluster_table[i][j]], original_data[cluster_table[i][j]][0], original_data[cluster_table[i][j]][1],\",\".join(gf['nama_kabupaten_kota'].values) ,\", \".join(year)])\n",
        "\n",
        "# cols = [\"indeks\", \"Centroid\", \"Jumlah data\",\n",
        "#         \"Member of the cluster\", \"Jumlah Banjir\", \"Jumlah Bencana Alam\", \"Nama Kabupaten/Kota\",\"Tahun\"]\n",
        "# pd.DataFrame(dump1)\n",
        "# hf = pd.DataFrame(dump1, columns=cols)\n",
        "# hf\n"
      ]
    },
    {
      "cell_type": "code",
      "execution_count": null,
      "metadata": {},
      "outputs": [],
      "source": [
        "# pd.set_option('display.max_row',df.shape[0]+1)\n",
        "# sf\n",
        "# a = str(','.join([str(i) for i in af['id']]))\n",
        "# b = str(a)\n",
        "# cek = indeks.setdefault(a, 0)\n",
        "# # a = indeks.clear()\n",
        "# cek2 = indeks.update({a:1})\n",
        "# print(a)\n",
        "# print(cek)\n",
        "# print(indeks)\n"
      ]
    }
  ],
  "metadata": {
    "colab": {
      "name": "Untitled2.ipynb",
      "provenance": []
    },
    "kernelspec": {
      "display_name": "Python 3.10.4 64-bit",
      "language": "python",
      "name": "python3"
    },
    "language_info": {
      "codemirror_mode": {
        "name": "ipython",
        "version": 3
      },
      "file_extension": ".py",
      "mimetype": "text/x-python",
      "name": "python",
      "nbconvert_exporter": "python",
      "pygments_lexer": "ipython3",
      "version": "3.10.4"
    },
    "vscode": {
      "interpreter": {
        "hash": "f964e09e33aea2d53a43dfbc6ca0301af95126fcaa9ec2015ca2f54ed8f7ee9c"
      }
    }
  },
  "nbformat": 4,
  "nbformat_minor": 0
}
